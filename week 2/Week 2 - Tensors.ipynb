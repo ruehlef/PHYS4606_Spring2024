{
 "cells": [
  {
   "cell_type": "markdown",
   "id": "91402801-d30c-440a-b358-0dfcd9ae694a",
   "metadata": {},
   "source": [
    "# Week 2: Numerical Differentiation, Tensors with jax"
   ]
  },
  {
   "cell_type": "markdown",
   "id": "45958231-2fd8-4b2d-9e52-c379756fd2bb",
   "metadata": {
    "jp-MarkdownHeadingCollapsed": true
   },
   "source": [
    "## Example: Numerical differentiation"
   ]
  },
  {
   "cell_type": "code",
   "execution_count": 14,
   "id": "09f483cb-5111-444d-8a5d-41b3ab0fdd5e",
   "metadata": {},
   "outputs": [
    {
     "data": {
      "text/plain": [
       "6.000001000927568"
      ]
     },
     "execution_count": 14,
     "metadata": {},
     "output_type": "execute_result"
    }
   ],
   "source": [
    "def diff(f, x0, eps=1e-6):\n",
    "    return (f(x0 + eps) - f(x0))/eps\n",
    "\n",
    "def f(x):\n",
    "    return x**2\n",
    "\n",
    "diff(f, 3)"
   ]
  },
  {
   "cell_type": "markdown",
   "id": "fee34a92-4188-49cf-be5f-4d1dfe766619",
   "metadata": {
    "jp-MarkdownHeadingCollapsed": true
   },
   "source": [
    "## Tensors"
   ]
  },
  {
   "cell_type": "code",
   "execution_count": 2,
   "id": "b5eb97c6-9706-4499-8e32-9faaf74cb15b",
   "metadata": {},
   "outputs": [],
   "source": [
    "# pip install jax jaxlib\n",
    "import jax\n",
    "import jax.numpy as jnp"
   ]
  },
  {
   "cell_type": "markdown",
   "id": "8876f831-2066-4114-93c4-5cd40aeceb6b",
   "metadata": {
    "jp-MarkdownHeadingCollapsed": true
   },
   "source": [
    "## Vectors and Coordinate transformations"
   ]
  },
  {
   "cell_type": "code",
   "execution_count": 22,
   "id": "60b43e0b-dc37-4a2c-9df0-6cba163b3378",
   "metadata": {},
   "outputs": [],
   "source": [
    "v1 = jnp.array([1, 2, 3], dtype=jnp.float32)\n",
    "v2 = jnp.array([4, 5, 6], dtype=jnp.float32)"
   ]
  },
  {
   "cell_type": "markdown",
   "id": "a3bbc34d-a5b7-4d74-aa7a-2aa317c07cd1",
   "metadata": {},
   "source": [
    "### 3D rotations"
   ]
  },
  {
   "cell_type": "code",
   "execution_count": 27,
   "id": "ed585ba5-586b-42ac-9f49-06447c628569",
   "metadata": {},
   "outputs": [],
   "source": [
    "def rot_x(theta_x):  # f: R -> R^3\n",
    "    r_x = jnp.array(\n",
    "        [[1., 0.              , 0.               ],\n",
    "         [0., jnp.cos(theta_x), -jnp.sin(theta_x)],\n",
    "         [0., jnp.sin(theta_x),  jnp.cos(theta_x)]\n",
    "        ])\n",
    "    return r_x\n",
    "    \n",
    "def rot_y(theta_y): # f: R -> R^3\n",
    "    r_y = jnp.array(\n",
    "        [[ jnp.cos(theta_y), 0., jnp.sin(theta_y)],\n",
    "         [0.               , 1., 0.              ],\n",
    "         [-jnp.sin(theta_y), 0.,  jnp.cos(theta_y)]\n",
    "        ])\n",
    "    return r_y\n",
    "    \n",
    "def rot_z(theta_z): # f: R -> R^3\n",
    "    r_z = jnp.array(\n",
    "        [[jnp.cos(theta_z), -jnp.sin(theta_z), 0.],\n",
    "         [jnp.sin(theta_z),  jnp.cos(theta_z), 0.],\n",
    "         [0.              , 0.               , 1.]\n",
    "        ])\n",
    "    return r_z    "
   ]
  },
  {
   "cell_type": "code",
   "execution_count": 33,
   "id": "30aa84a9-fb23-4ec9-a59a-80aaf327e1c5",
   "metadata": {},
   "outputs": [
    {
     "name": "stdout",
     "output_type": "stream",
     "text": [
      "v1' = R_x(pi).v1: [1, -2, -3]\n",
      "v1' = R_x(pi).v1: [ 1.        -1.9999998 -3.0000002]\n"
     ]
    }
   ],
   "source": [
    "v1prime = jnp.einsum('ij,j->i', rot_x(jnp.pi), v1)\n",
    "print(\"v1' = R_x(pi).v1: [{:.0f}, {:.0f}, {:.0f}]\".format(*v1prime))\n",
    "print(\"v1' = R_x(pi).v1: {}\".format(v1prime))"
   ]
  },
  {
   "cell_type": "markdown",
   "id": "c17653e1-a0e5-4a5c-a60f-1f550b9175e3",
   "metadata": {},
   "source": [
    "Look at rotated coordinate system"
   ]
  },
  {
   "cell_type": "code",
   "execution_count": 46,
   "id": "77f95a3c-20da-4e37-aeb9-c39b55995be3",
   "metadata": {},
   "outputs": [
    {
     "name": "stdout",
     "output_type": "stream",
     "text": [
      "[[ 0.32387784 -0.06565329 -0.9438182 ]\n",
      " [ 0.65857905 -0.70056975  0.2747286 ]\n",
      " [-0.6792473  -0.7105574  -0.18366113]]\n"
     ]
    }
   ],
   "source": [
    "e1, e2, e3 = jnp.array([1., 0., 0.]), jnp.array([0., 1., 0.]), jnp.array([0., 0., 1.])\n",
    "o = jnp.einsum('ij,jk,kl->il', rot_x(jnp.sqrt(17)), rot_y(-1.234), rot_z(1/5))\n",
    "print(o)"
   ]
  },
  {
   "cell_type": "code",
   "execution_count": 47,
   "id": "42315490-dc5f-4f37-9099-703606521db2",
   "metadata": {},
   "outputs": [],
   "source": [
    "b1, b2, b3 = jnp.einsum('ij,j', o, e1), jnp.einsum('ij,j', o, e2), jnp.einsum('ij,j', o, e3)"
   ]
  },
  {
   "cell_type": "code",
   "execution_count": 48,
   "id": "092c3148-9b18-454a-8773-e0dc9cae3d38",
   "metadata": {},
   "outputs": [
    {
     "name": "stdout",
     "output_type": "stream",
     "text": [
      "b1=[ 0.32387784  0.65857905 -0.6792473 ], b2=[-0.06565329 -0.70056975 -0.7105574 ], b3=[-0.9438182   0.2747286  -0.18366113]\n"
     ]
    }
   ],
   "source": [
    "print(\"b1={}, b2={}, b3={}\".format(b1, b2, b3))"
   ]
  },
  {
   "cell_type": "markdown",
   "id": "9eacdda7-01f1-4b1e-ae44-862f277fc57a",
   "metadata": {},
   "source": [
    "### Contra-variant vector"
   ]
  },
  {
   "cell_type": "markdown",
   "id": "a2118131-9cf2-4160-b613-06802c785e31",
   "metadata": {},
   "source": [
    "For a some random vector $v$ we get"
   ]
  },
  {
   "cell_type": "code",
   "execution_count": 63,
   "id": "1a645de5-fe47-4037-bbd6-0c330580af66",
   "metadata": {},
   "outputs": [
    {
     "name": "stdout",
     "output_type": "stream",
     "text": [
      "v  = [ 1.  2. -3.]\n",
      "v' = [ 3.024026  -1.5667462 -1.5493786]\n"
     ]
    }
   ],
   "source": [
    "v = 1 * e1 + 2 * e2 - 3 * e3\n",
    "vprime = jnp.einsum('ij,j', o, v)\n",
    "print(\"v  = {}\".format(v))\n",
    "print(\"v' = {}\".format(vprime))"
   ]
  },
  {
   "cell_type": "markdown",
   "id": "d5581488-b17e-419b-8f11-3c542407ad68",
   "metadata": {},
   "source": [
    "For a contra-variant vector, the trafo $\\vec{v}\\to \\vec{v}'(\\vec{v})=A\\cdot\\vec{v}$ should be given by the Jacobian $A^i_j = J^i_j = \\frac{\\partial (x^\\prime)^i}{\\partial x^j}$"
   ]
  },
  {
   "cell_type": "code",
   "execution_count": 76,
   "id": "881edb3a-294d-41b6-953f-ba40765fd508",
   "metadata": {},
   "outputs": [
    {
     "name": "stdout",
     "output_type": "stream",
     "text": [
      "[[ 0.32387784 -0.06565329 -0.9438182 ]\n",
      " [ 0.65857905 -0.70056975  0.2747286 ]\n",
      " [-0.6792473  -0.7105574  -0.18366113]]\n"
     ]
    }
   ],
   "source": [
    "from jax import grad\n",
    "def vprime(v, i):\n",
    "    return jnp.einsum('ij,j', o, v)[i]\n",
    "j = jnp.array([[jax.grad(vprime)(v, i)[j] for j in range(len(v))] for i in range(len(v))])\n",
    "print(j)"
   ]
  },
  {
   "cell_type": "markdown",
   "id": "5a71be42-e564-46e9-b73f-b66134af5b84",
   "metadata": {},
   "source": [
    "Since computing the Jacobian is something that needs to be done very frequently, it has its own function. In fact, it even has two implementations that do the same thing (i.e., both compute the Jacobian). In the case of endomorphisms (i.e., maps from V to V), where we compute $v^\\prime_i(v_j)$, this does not matter. \n",
    "\n",
    "More generally, we could imagine maps $\\mathbb{R}^N\\to\\mathbb{R}^M$, in which case we should compute $f_i(x_j)$ where $i=1,..,N$ and $j=1,..,M$. \n",
    "\n",
    "If $N\\leq M$, the $\\texttt{jacfwd}$ implementation is faster and if $N>M$, the $\\texttt{jacrev}$ implementation is faster."
   ]
  },
  {
   "cell_type": "code",
   "execution_count": 145,
   "id": "d60f82af-af69-4cd2-93dc-d733b0ed9cd9",
   "metadata": {},
   "outputs": [
    {
     "name": "stdout",
     "output_type": "stream",
     "text": [
      "[[ 0.32387784 -0.06565329 -0.9438182 ]\n",
      " [ 0.65857905 -0.70056975  0.2747286 ]\n",
      " [-0.6792473  -0.7105574  -0.18366113]]\n",
      "[[ 0.32387784 -0.06565329 -0.9438182 ]\n",
      " [ 0.65857905 -0.70056975  0.2747286 ]\n",
      " [-0.6792473  -0.7105574  -0.18366113]]\n"
     ]
    }
   ],
   "source": [
    "def vprime(v):\n",
    "    return jnp.einsum('ij,j', o, v)\n",
    "j = jax.jacfwd(vprime)(v)\n",
    "print(j)\n",
    "print(o)"
   ]
  },
  {
   "cell_type": "markdown",
   "id": "8efd44b7-c5f7-475e-a16a-a36b3a7f7a4f",
   "metadata": {},
   "source": [
    "Finally, let us look at a covariant vector (like the gradient itself). We define some random function $\\phi: \\mathbb{R}^3\\to\\mathbb{R}$,\n",
    "$$\\phi(v) = \\sin(v_x)\\cos(v_y)\\tan(v_z)+ e^{-v_x} v_y v_z^2\\,,$$ take the gradient $\\vec{\\nabla}\\phi$, and see how it transforms under coordiate changes $v\\to v'(v)$"
   ]
  },
  {
   "cell_type": "code",
   "execution_count": 141,
   "id": "2b935628-8f46-4d86-9bf7-f5f72bbcc48e",
   "metadata": {},
   "outputs": [],
   "source": [
    "def phi(v):\n",
    "    x, y, z = v\n",
    "    return jnp.sin(x) * jnp.cos(y) * jnp.tan(z) + jnp.exp(-x) * y * z**2\n",
    "\n",
    "def vorig(vp):\n",
    "    return jnp.einsum('ij,j', jnp.linalg.inv(o), vp)"
   ]
  },
  {
   "cell_type": "code",
   "execution_count": 131,
   "id": "dc9bcafe-2d48-4f3a-b663-08ebd14fd80a",
   "metadata": {},
   "outputs": [
    {
     "name": "stdout",
     "output_type": "stream",
     "text": [
      "v=               [ 1.  2. -3.]\n",
      "\\phi(v)=         6.5719137\n",
      "\\nabla\\phi(v)=   [-6.653881   3.201846  -4.7718444]\n",
      "\n",
      "v'=              [ 3.024026  -1.5667462 -1.5493786]\n",
      "\\phi(v')=        -0.20498562\n",
      "\\nabla\\phi(v')=  [ 0.37057406 -5.3590355   1.2717581 ]\n"
     ]
    }
   ],
   "source": [
    "v  = 1 * e1 + 2 * e2 - 3 * e3\n",
    "vp = vprime(v)\n",
    "print('v=              ', v)\n",
    "print('\\phi(v)=        ', phi(v))\n",
    "print('\\\\nabla\\phi(v)=  ', jax.grad(phi)(v))\n",
    "print('')\n",
    "print('v\\'=             ', vp)\n",
    "print('\\phi(v\\')=       ', phi(vp))\n",
    "print('\\\\nabla\\phi(v\\')= ', jax.grad(phi)(vp))"
   ]
  },
  {
   "cell_type": "code",
   "execution_count": 146,
   "id": "c1fb39ca-b027-4081-9c31-0addff5bd10e",
   "metadata": {},
   "outputs": [
    {
     "name": "stdout",
     "output_type": "stream",
     "text": [
      "[[ 0.3238778  -0.06565327 -0.9438182 ]\n",
      " [ 0.6585789  -0.7005696   0.27472857]\n",
      " [-0.6792472  -0.7105573  -0.1836611 ]]\n",
      "[[ 0.32387784 -0.06565329 -0.9438182 ]\n",
      " [ 0.65857905 -0.70056975  0.2747286 ]\n",
      " [-0.6792473  -0.7105574  -0.18366113]]\n"
     ]
    }
   ],
   "source": [
    "jtilde = jax.jacfwd(vorig)(jax.grad(phi)(vp))\n",
    "print(jnp.einsum('ij->ji', jtilde))\n",
    "print(o)"
   ]
  },
  {
   "cell_type": "markdown",
   "id": "aa876114-434f-4bce-9a75-7385edf6ce99",
   "metadata": {
    "jp-MarkdownHeadingCollapsed": true
   },
   "source": [
    "## Tensor manipulations"
   ]
  },
  {
   "cell_type": "code",
   "execution_count": 9,
   "id": "1c88d401-7230-4998-a715-e519ac7a2b3b",
   "metadata": {},
   "outputs": [],
   "source": [
    "v1 = jnp.array([1, 2, 3], dtype=jnp.float32)\n",
    "v2 = jnp.array([4, 5, 6], dtype=jnp.float32)\n",
    "m = jnp.array([[1,-2,3], [4,-5,6], [7,-8,9]], dtype=jnp.float32)"
   ]
  },
  {
   "cell_type": "code",
   "execution_count": 17,
   "id": "7885b4ba-990a-40d1-8a76-5496afa16403",
   "metadata": {},
   "outputs": [
    {
     "name": "stdout",
     "output_type": "stream",
     "text": [
      "Inner product: v1.v2\n",
      "32\n",
      "\n",
      "Outer product: v1 x v2\n",
      "[[ 4.  5.  6.]\n",
      " [ 8. 10. 12.]\n",
      " [12. 15. 18.]]\n",
      "\n",
      "Matrix times vector: m.v1:\n",
      "[12. 27. 42.]\n",
      "\n",
      "Matrix times matrix: m.m:\n",
      "[[ 14. -16.  18.]\n",
      " [ 26. -31.  36.]\n",
      " [ 38. -46.  54.]]\n",
      "\n",
      "More complicated tensor: \\sum_k m_ij.m_kl v1_m v2_l = u_ijlm:\n",
      "[[[[   66.   132.   198.]\n",
      "   [  -81.  -162.  -243.]\n",
      "   [   96.   192.   288.]]\n",
      "\n",
      "  [[ -132.  -264.  -396.]\n",
      "   [  162.   324.   486.]\n",
      "   [ -192.  -384.  -576.]]\n",
      "\n",
      "  [[  198.   396.   594.]\n",
      "   [ -243.  -486.  -729.]\n",
      "   [  288.   576.   864.]]]\n",
      "\n",
      "\n",
      " [[[  264.   528.   792.]\n",
      "   [ -324.  -648.  -972.]\n",
      "   [  384.   768.  1152.]]\n",
      "\n",
      "  [[ -330.  -660.  -990.]\n",
      "   [  405.   810.  1215.]\n",
      "   [ -480.  -960. -1440.]]\n",
      "\n",
      "  [[  396.   792.  1188.]\n",
      "   [ -486.  -972. -1458.]\n",
      "   [  576.  1152.  1728.]]]\n",
      "\n",
      "\n",
      " [[[  462.   924.  1386.]\n",
      "   [ -567. -1134. -1701.]\n",
      "   [  672.  1344.  2016.]]\n",
      "\n",
      "  [[ -528. -1056. -1584.]\n",
      "   [  648.  1296.  1944.]\n",
      "   [ -768. -1536. -2304.]]\n",
      "\n",
      "  [[  594.  1188.  1782.]\n",
      "   [ -729. -1458. -2187.]\n",
      "   [  864.  1728.  2592.]]]]\n",
      "\n"
     ]
    }
   ],
   "source": [
    "s = jnp.einsum('i,i->', v1, v2)\n",
    "print(\"Inner product: v1.v2\\n{:.0f}\\n\".format(s))\n",
    "\n",
    "t = jnp.einsum('i,j->ij', v1, v2)\n",
    "print(\"Outer product: v1 x v2\\n{:}\\n\".format(t))\n",
    "\n",
    "v3 = jnp.einsum('ij,j->i', m, v2)\n",
    "print(\"Matrix times vector: m.v1:\\n{:}\\n\".format(v3))\n",
    "\n",
    "n = jnp.einsum('ij,jk->ik', m, m)\n",
    "print(\"Matrix times matrix: m.m:\\n{:}\\n\".format(n))\n",
    "\n",
    "u = jnp.einsum('ij,kl,m,k->ijlm', m, m, v1, v2)\n",
    "print(\"More complicated tensor: \\sum_k m_ij.m_kl v1_m v2_l = u_ijlm:\\n{:}\\n\".format(u))"
   ]
  },
  {
   "cell_type": "markdown",
   "id": "f3f02acd-efcd-4324-897f-41429888e309",
   "metadata": {},
   "source": [
    "Note that this is pretty fast even for big matrices. Let for example\n",
    "$$ m\\in\\mathbb{R}^{10000\\times1000}\\,,\\qquad v_1, v_2\\in\\mathbb{R}^{1000}$$\n",
    "We compute \n",
    "$$ s=v_1^T \\cdot m^T \\cdot m \\cdot v_2 $$"
   ]
  },
  {
   "cell_type": "code",
   "execution_count": 15,
   "id": "05baadfe-489e-4a65-af45-d81152bb5594",
   "metadata": {},
   "outputs": [
    {
     "name": "stdout",
     "output_type": "stream",
     "text": [
      "The result is 591693504.000. The computation took 0.029 seconds\n"
     ]
    }
   ],
   "source": [
    "import time\n",
    "key = jax.random.PRNGKey(seed=1)\n",
    "m = jax.random.uniform(key, shape=(10000, 1000))\n",
    "v1 = jax.random.uniform(key, shape=(1000,))\n",
    "v2 = jax.random.uniform(key, shape=(1000,))\n",
    "t1 = time.time()\n",
    "s = jnp.einsum('i,ji,jk,k->', v1, m, m, v2)\n",
    "t2 = time.time()\n",
    "print(\"The result is {:.3f}. The computation took {:.3f} seconds\".format(s, t2-t1))"
   ]
  }
 ],
 "metadata": {
  "kernelspec": {
   "display_name": "venv-ml",
   "language": "python",
   "name": "venv-ml"
  },
  "language_info": {
   "codemirror_mode": {
    "name": "ipython",
    "version": 3
   },
   "file_extension": ".py",
   "mimetype": "text/x-python",
   "name": "python",
   "nbconvert_exporter": "python",
   "pygments_lexer": "ipython3",
   "version": "3.9.10"
  }
 },
 "nbformat": 4,
 "nbformat_minor": 5
}
