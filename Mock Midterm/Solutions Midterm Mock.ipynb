{
 "cells": [
  {
   "cell_type": "markdown",
   "id": "3de2527d-50dd-46dd-9f3b-2233921dd64c",
   "metadata": {},
   "source": [
    "# Solutions Mock Midterm Question 4"
   ]
  },
  {
   "cell_type": "markdown",
   "id": "f5ecc22d-2aa5-4209-871a-92b052a7abb3",
   "metadata": {},
   "source": [
    "We have the equation $y'=F(x,y(x))=-2y(x)$.\n",
    "For the implicit RK, this means that\n",
    "$$k_1 = F(x+0.211h, y+0.25hk_1-0.039hk_2)=-2y-0.5hk_1+0.078hk_2$$\n",
    "$$k_2 = F(x+0.789h, y+0.539k_1+0.25k_2)=-2y-1.048hk_1-0.5hk_2$$"
   ]
  },
  {
   "cell_type": "markdown",
   "id": "04dee356-74a0-451e-aae0-74c862a15219",
   "metadata": {},
   "source": [
    "## a)"
   ]
  },
  {
   "cell_type": "code",
   "execution_count": 1,
   "id": "e026bfab-85c6-4ac2-bd22-584369e58cc7",
   "metadata": {},
   "outputs": [],
   "source": [
    "def rk(x, y, h=.25):\n",
    "    k1 = -2 * y * (1/(0.078*h) + 2/(h+2)) / ((h + 2)/(0.156 * h) + 2.096 * h / (h+2))\n",
    "    k2 = -4 * y / (h + 2) - (2.096 * h) / (h+2) * k1\n",
    "    return y+1/2*h*(k1+k2)"
   ]
  },
  {
   "cell_type": "code",
   "execution_count": 2,
   "id": "be008784-0ed5-441c-8bac-14fcfb8f52fa",
   "metadata": {},
   "outputs": [],
   "source": [
    "import numpy as np\n",
    "xs = list(np.arange(-1, 1.1, .25))\n",
    "ys = [1]\n",
    "for x, y in zip(xs, ys):\n",
    "    ys.append(rk(x, y))"
   ]
  },
  {
   "cell_type": "markdown",
   "id": "da3943ba-fbae-4a8c-bb0f-f00b62507fc8",
   "metadata": {},
   "source": [
    "# b)"
   ]
  },
  {
   "cell_type": "code",
   "execution_count": 3,
   "id": "ba2d6482-16b4-4df5-b711-f6dcaee2d13a",
   "metadata": {},
   "outputs": [],
   "source": [
    "import matplotlib.pyplot as plt"
   ]
  },
  {
   "cell_type": "code",
   "execution_count": 7,
   "id": "d052ba48-4f84-4cbe-b7ef-8fda5dc19508",
   "metadata": {},
   "outputs": [
    {
     "data": {
      "image/png": "[encoded data removed]",
      "text/plain": [
       "<Figure size 640x480 with 1 Axes>"
      ]
     },
     "metadata": {},
     "output_type": "display_data"
    }
   ],
   "source": [
    "ys_exact = [np.exp(-2*x-2) for x in xs]\n",
    "plt.scatter(xs, ys[:-1], label=\"RK\");\n",
    "plt.scatter(xs, ys_exact, label=\"Exact\");\n",
    "plt.legend();"
   ]
  },
  {
   "cell_type": "markdown",
   "id": "376bd423-8587-4866-8438-0dca49f3fc7e",
   "metadata": {},
   "source": [
    "## c)"
   ]
  },
  {
   "cell_type": "code",
   "execution_count": 8,
   "id": "9e8ff55c-b09b-445d-8fbc-8e81a82456a1",
   "metadata": {},
   "outputs": [],
   "source": [
    "def r(aa, bs, cs, x):\n",
    "    unit_m = np.eye(len(aa), dtype=np.float32)\n",
    "    unit_v = np.array([1 for _ in range(len(aa))], dtype=np.float32)\n",
    "    return 1 + x * np.einsum('i,ij,j', bs, np.linalg.inv(unit_m - x*aa), unit_v)"
   ]
  },
  {
   "cell_type": "code",
   "execution_count": 9,
   "id": "2a4b2bca-cb90-4416-b853-ae27b310ed28",
   "metadata": {},
   "outputs": [
    {
     "data": {
      "text/plain": [
       "0.6065719016406148"
      ]
     },
     "execution_count": 9,
     "metadata": {},
     "output_type": "execute_result"
    }
   ],
   "source": [
    "as_1 = np.array([[.25,-.039], [.539, .25]])\n",
    "bs_1 = np.array([1/2, 1/2])\n",
    "cs_1 = np.array([.211, .789])\n",
    "r(as_1, bs_1, cs_1, -.5)"
   ]
  },
  {
   "cell_type": "code",
   "execution_count": 10,
   "id": "aeb254a7-c8c5-4aa0-ba7c-b772a41fc77c",
   "metadata": {},
   "outputs": [
    {
     "data": {
      "text/plain": [
       "0.625"
      ]
     },
     "execution_count": 10,
     "metadata": {},
     "output_type": "execute_result"
    }
   ],
   "source": [
    "as_2 = np.array([[0,0], [1, 0]])\n",
    "bs_2 = np.array([1/2, 1/2])\n",
    "cs_2 = np.array([0., 1.])\n",
    "r(as_2, bs_2, cs_2, -.5)"
   ]
  },
  {
   "cell_type": "code",
   "execution_count": null,
   "id": "57ff7f20-c6f9-4867-b85d-83123a88967f",
   "metadata": {},
   "outputs": [],
   "source": []
  }
 ],
 "metadata": {
  "kernelspec": {
   "display_name": "venv-ml",
   "language": "python",
   "name": "venv-ml"
  },
  "language_info": {
   "codemirror_mode": {
    "name": "ipython",
    "version": 3
   },
   "file_extension": ".py",
   "mimetype": "text/x-python",
   "name": "python",
   "nbconvert_exporter": "python",
   "pygments_lexer": "ipython3",
   "version": "3.9.10"
  }
 },
 "nbformat": 4,
 "nbformat_minor": 5
}
