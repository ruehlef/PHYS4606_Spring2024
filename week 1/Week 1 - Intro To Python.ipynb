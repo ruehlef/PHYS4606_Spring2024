{
 "cells": [
  {
   "cell_type": "markdown",
   "id": "acacf51c-52c9-486e-a84d-1e1f015e6e93",
   "metadata": {},
   "source": [
    "# Week 1: Intro to Python"
   ]
  },
  {
   "cell_type": "markdown",
   "id": "50c409a4-b428-4481-941b-e6097b72768e",
   "metadata": {},
   "source": [
    "Python is a script langauge. This means that it is not directly compiled to assembler, but instead to C-code, which is then compiled to assembler. The advantage over C is that it is easier to code and read, and more robust against human errors (e.g. pointer overflows). It has the usual data types, but you do not necessarily have to declare the data type of variables, functions, etc. Python just infers it. Moreover, it has some support for object orientation, but not to the extent that e.g. Java does. It is mostly a procedural programming language."
   ]
  },
  {
   "cell_type": "markdown",
   "id": "a75d43fd-054f-4894-a0fb-18647f015208",
   "metadata": {},
   "source": [
    "## Data types"
   ]
  },
  {
   "cell_type": "code",
   "execution_count": 1,
   "id": "ff1d92ed-31a8-4bf5-9d3f-81decd905889",
   "metadata": {},
   "outputs": [],
   "source": [
    "# First, let us look at some data types\n",
    "a = 1\n",
    "b = 2.7\n",
    "c = \"c\"\n",
    "d = [1, 2, 3.5]\n",
    "e = (1, 2, 3.5)\n",
    "f = {1: \"a\", 2: \"b\", 3: \"c\", 3.5: \"d\"}\n",
    "\n",
    "vs = [a, b, c, d, e, f]"
   ]
  },
  {
   "cell_type": "code",
   "execution_count": 2,
   "id": "47ad586e-2b84-42c4-8f3c-90c64f8af95e",
   "metadata": {},
   "outputs": [
    {
     "name": "stdout",
     "output_type": "stream",
     "text": [
      "1\n",
      "1\n",
      "3.5\n",
      "d\n"
     ]
    }
   ],
   "source": [
    "# Now we can access individual components of these arrays, for example\n",
    "print(a)       # 1\n",
    "print(d[0])    # 1\n",
    "print(e[2])    # 3.5\n",
    "print(f[3.5])  # d"
   ]
  },
  {
   "cell_type": "code",
   "execution_count": 3,
   "id": "65dad0f5-2cc5-4b14-93b9-3d348f9b7e06",
   "metadata": {},
   "outputs": [
    {
     "name": "stdout",
     "output_type": "stream",
     "text": [
      "2.7 2\n",
      "(1, 2, 3.5) [1, 2, 3.5]\n"
     ]
    }
   ],
   "source": [
    "# I can also convert one data type to another:\n",
    "print(b, int(b))\n",
    "print(e, list(e))"
   ]
  },
  {
   "cell_type": "code",
   "execution_count": 4,
   "id": "9ca760b0-0612-45e4-af4f-090c07934d65",
   "metadata": {},
   "outputs": [
    {
     "name": "stdout",
     "output_type": "stream",
     "text": [
      "[1, 2, 3, 4]\n"
     ]
    },
    {
     "ename": "TypeError",
     "evalue": "'list' object is not callable",
     "output_type": "error",
     "traceback": [
      "\u001b[0;31m---------------------------------------------------------------------------\u001b[0m",
      "\u001b[0;31mTypeError\u001b[0m                                 Traceback (most recent call last)",
      "Cell \u001b[0;32mIn[4], line 7\u001b[0m\n\u001b[1;32m      4\u001b[0m \u001b[38;5;28mprint\u001b[39m(\u001b[38;5;28mlist\u001b[39m)\n\u001b[1;32m      6\u001b[0m \u001b[38;5;66;03m# This should be illegal (without warning), since now I cannot do anymore\u001b[39;00m\n\u001b[0;32m----> 7\u001b[0m x \u001b[38;5;241m=\u001b[39m \u001b[38;5;28;43mlist\u001b[39;49m\u001b[43m(\u001b[49m\u001b[43m(\u001b[49m\u001b[38;5;241;43m1\u001b[39;49m\u001b[43m,\u001b[49m\u001b[43m \u001b[49m\u001b[38;5;241;43m2\u001b[39;49m\u001b[43m,\u001b[49m\u001b[43m \u001b[49m\u001b[38;5;241;43m3\u001b[39;49m\u001b[43m,\u001b[49m\u001b[43m \u001b[49m\u001b[38;5;241;43m4\u001b[39;49m\u001b[43m)\u001b[49m\u001b[43m)\u001b[49m\n",
      "\u001b[0;31mTypeError\u001b[0m: 'list' object is not callable"
     ]
    }
   ],
   "source": [
    "# NOTE: Python lets you assign values to standard data types, e.g.\n",
    "real_list = list\n",
    "list = [1, 2, 3, 4]\n",
    "print(list)\n",
    "\n",
    "# This should be illegal (without warning), since now I cannot do anymore\n",
    "x = list((1, 2, 3, 4))"
   ]
  },
  {
   "cell_type": "code",
   "execution_count": 5,
   "id": "015f8f36-82f9-4a43-b1b0-f6668284ba82",
   "metadata": {},
   "outputs": [
    {
     "name": "stdout",
     "output_type": "stream",
     "text": [
      "[1, 2, 3, 4]\n"
     ]
    }
   ],
   "source": [
    "list = real_list\n",
    "x = list((1, 2, 3, 4))\n",
    "print(x)"
   ]
  },
  {
   "cell_type": "markdown",
   "id": "08a97bdb-b795-47a7-9966-e9a230bb6cbc",
   "metadata": {},
   "source": [
    "## Loops and Conditionals"
   ]
  },
  {
   "cell_type": "code",
   "execution_count": 6,
   "id": "451a8d02-cd20-4b9d-b5f4-5f3b34aae6b3",
   "metadata": {},
   "outputs": [
    {
     "name": "stdout",
     "output_type": "stream",
     "text": [
      "1 <class 'int'>\n",
      "2.7 <class 'float'>\n",
      "c <class 'str'>\n",
      "[1, 2, 3.5] <class 'list'>\n",
      "(1, 2, 3.5) <class 'tuple'>\n",
      "{1: 'a', 2: 'b', 3: 'c', 3.5: 'd'} <class 'dict'>\n"
     ]
    }
   ],
   "source": [
    "# simple loops\n",
    "for v in vs:  \n",
    "    # vars is what is called an iterable. \n",
    "    # You can iterate over the elements in this list, and so \"v in vars\" means that v will take on successively the values vars[0], vars[1], ...\n",
    "    print(v, type(v))"
   ]
  },
  {
   "cell_type": "code",
   "execution_count": 7,
   "id": "3761da6a-bae1-4bb6-9b8a-1c98ac4921ac",
   "metadata": {},
   "outputs": [
    {
     "name": "stdout",
     "output_type": "stream",
     "text": [
      "Index 0 of vars has value 1.\n",
      "Index 1 of vars has value 2.7.\n",
      "Index 2 of vars has value c.\n",
      "Index 3 of vars has value [1, 2, 3.5].\n",
      "Index 4 of vars has value (1, 2, 3.5).\n",
      "Index 5 of vars has value {1: 'a', 2: 'b', 3: 'c', 3.5: 'd'}.\n"
     ]
    }
   ],
   "source": [
    "# often, one wants the element as well as its index. The naive possibility is to create a range that just has all indices in it and loop over them\n",
    "for i in range(len(vs)):\n",
    "    v = vs[i]\n",
    "    print(\"Index {} of vars has value {}.\".format(i, v))"
   ]
  },
  {
   "cell_type": "code",
   "execution_count": 8,
   "id": "14c23604-a414-44ef-a5e4-1033881e2cb3",
   "metadata": {},
   "outputs": [
    {
     "name": "stdout",
     "output_type": "stream",
     "text": [
      "Index 0 of vars has value 1.\n",
      "Index 1 of vars has value 2.7.\n",
      "Index 2 of vars has value c.\n",
      "Index 3 of vars has value [1, 2, 3.5].\n",
      "Index 4 of vars has value (1, 2, 3.5).\n",
      "Index 5 of vars has value {1: 'a', 2: 'b', 3: 'c', 3.5: 'd'}.\n"
     ]
    }
   ],
   "source": [
    "# Since this is needed quite often, we can use enumerate:\n",
    "for i, v in enumerate(vs):\n",
    "    print(\"Index {} of vars has value {}.\".format(i, v))"
   ]
  },
  {
   "cell_type": "code",
   "execution_count": 9,
   "id": "be864bd9-b7d1-41dc-a071-246da8af02ea",
   "metadata": {},
   "outputs": [
    {
     "name": "stdout",
     "output_type": "stream",
     "text": [
      "Index 0 of vars has value 1.\n",
      "Index 1 of vars has value 2.7.\n",
      "Index 2 of vars has value c.\n",
      "Index 3 of vars has value [1, 2, 3.5].\n",
      "Index 4 of vars has value (1, 2, 3.5).\n",
      "Index 5 of vars has value {1: 'a', 2: 'b', 3: 'c', 3.5: 'd'}.\n"
     ]
    }
   ],
   "source": [
    "# Another thing one often needs is to get element 0 of list1 and list2, then element 1 of list1 and list2, etc.\n",
    "# This can be done with zip. So the above is equivalent to\n",
    "idx = range(len(vs))\n",
    "for i, v in zip(idx, vs):\n",
    "    print(\"Index {} of vars has value {}.\".format(i, v))"
   ]
  },
  {
   "cell_type": "code",
   "execution_count": 10,
   "id": "cf562ce6-fbea-465e-add6-b7a2610e6173",
   "metadata": {},
   "outputs": [
    {
     "name": "stdout",
     "output_type": "stream",
     "text": [
      "Index: 0\n",
      "Index: 1\n",
      "Index: 2\n",
      "Index: 3\n",
      "Index: 4\n",
      "Index: 6\n",
      "Index: 7\n"
     ]
    }
   ],
   "source": [
    "# One can also abort a loop (using break) or skip the rest of the loop (using continue)\n",
    "for i in range(10):\n",
    "    if i == 5:\n",
    "        continue\n",
    "    print(\"Index: {}\".format(i))\n",
    "    if i == 7:\n",
    "        break"
   ]
  },
  {
   "cell_type": "code",
   "execution_count": 11,
   "id": "37858a11-d191-4f45-a063-82a8262a6d37",
   "metadata": {},
   "outputs": [],
   "source": [
    "# The above is an example of unpacking: \n",
    "# enumerate(vars) and zip(idx, vars) returns a 2-tuple (number, element in vars), \n",
    "# and this tuple is assigned to the variables i and v, respectively.\n",
    "# Another example for this is\n",
    "a, b, c = 5, 7, \"a\""
   ]
  },
  {
   "cell_type": "code",
   "execution_count": 12,
   "id": "b8e048b1-a1db-4a65-aeeb-5fd4c9e72c8c",
   "metadata": {},
   "outputs": [
    {
     "name": "stdout",
     "output_type": "stream",
     "text": [
      "x is smaller than 8.\n"
     ]
    }
   ],
   "source": [
    "# Another very common control type are conditional statements:\n",
    "x = 7.5\n",
    "if x < 8:\n",
    "    print(\"x is smaller than 8.\")\n",
    "elif 8 <= x <= 9:\n",
    "    print(\"x is between 8 and 9.\")\n",
    "else:\n",
    "    print(\"x is greater than 9.\")"
   ]
  },
  {
   "cell_type": "code",
   "execution_count": 13,
   "id": "d79066bc-f8e3-4bb1-8629-f98c36b1c3cc",
   "metadata": {},
   "outputs": [
    {
     "name": "stdout",
     "output_type": "stream",
     "text": [
      "[0, 1, 2, 3, 4, 6, 7, 8, 9]\n",
      "[0, 1, 2, 3, 4, 6, 7, 8, 9]\n"
     ]
    }
   ],
   "source": [
    "# List comprehensions and conditionals\n",
    "# One can put iterators and conditional into list generators\n",
    "\n",
    "# Using the above control structures, we could do\n",
    "x = []\n",
    "for i in range(10):\n",
    "    if i != 5:\n",
    "        x.append(i)\n",
    "print(x)\n",
    "\n",
    "# This can be written succinctly on one line\n",
    "x = [i for i in range(10) if i != 5]\n",
    "print(x)"
   ]
  },
  {
   "cell_type": "markdown",
   "id": "e7532218-d936-4659-95f9-d0067fb8b154",
   "metadata": {},
   "source": [
    "## Functions"
   ]
  },
  {
   "cell_type": "code",
   "execution_count": 17,
   "id": "5289e865-ef6b-4c40-951c-a0dc87d65593",
   "metadata": {},
   "outputs": [
    {
     "name": "stdout",
     "output_type": "stream",
     "text": [
      "14\n",
      "14\n",
      "5\n",
      "14\n"
     ]
    }
   ],
   "source": [
    "# The next basic python object we want to introduce are functions\n",
    "def some_function(x, y, z=0):\n",
    "    return x**2 + y**2 + z**2\n",
    "\n",
    "print(some_function(1, 2, 3))\n",
    "\n",
    "# Here, the variables are called a, b, c\n",
    "a, b, c = 1, 2, 3\n",
    "print(some_function(1, 2, 3))\n",
    "print(some_function(1, 2))\n",
    "\n",
    "# we can also enforce unpacking in functions using the * operator\n",
    "args = [1, 2, 3]\n",
    "print(some_function(*args))"
   ]
  },
  {
   "cell_type": "code",
   "execution_count": 15,
   "id": "d8326aa9-2335-470f-9ed0-7674b40c5d9c",
   "metadata": {},
   "outputs": [
    {
     "name": "stdout",
     "output_type": "stream",
     "text": [
      "4\n"
     ]
    }
   ],
   "source": [
    "# python provides a shortcut (called lambda) for temporary functions that don't really need a name\n",
    "print((lambda x: x**2)(2))"
   ]
  },
  {
   "cell_type": "code",
   "execution_count": 18,
   "id": "ff0a8c95-80fb-4e73-a98f-3665e03a8339",
   "metadata": {},
   "outputs": [
    {
     "name": "stdout",
     "output_type": "stream",
     "text": [
      "Using x from outside scope\n",
      "Before function call: 1\n",
      "Inside function: 1\n",
      "After function call: 1\n",
      "\n",
      "Shadowing x from outside scope\n",
      "Before function call: 1\n",
      "Inside function: 2\n",
      "After function call: 1\n",
      "\n",
      "Call by value\n",
      "Before function call: 1\n",
      "Inside function: 2\n",
      "After function call: 1\n",
      "\n",
      "Call by reference\n",
      "Before function call: [1, 2, 3]\n",
      "Inside function: [1, 2, 3, 4]\n",
      "After function call: [1, 2, 3, 4]\n"
     ]
    }
   ],
   "source": [
    "# At this point we also need to mention the scope of variables. This is a source for bugs\n",
    "print(\"Using x from outside scope\")\n",
    "x = 1\n",
    "def some_fct():\n",
    "    print(\"Inside function:\", x)\n",
    "print(\"Before function call:\", x)\n",
    "some_fct()\n",
    "print(\"After function call:\", x)\n",
    "\n",
    "# Now we can shadow x from the outside scope by defining a new x inside the function\n",
    "print(\"\\nShadowing x from outside scope\")\n",
    "x = 1\n",
    "def some_fct():\n",
    "    x=2\n",
    "    print(\"Inside function:\", x)\n",
    "print(\"Before function call:\", x)\n",
    "some_fct()\n",
    "print(\"After function call:\", x)\n",
    "\n",
    "# Some Python calls are by value, others are by reference\n",
    "print(\"\\nCall by value\")\n",
    "x = 1\n",
    "def some_fct(x):\n",
    "    x += 1\n",
    "    print(\"Inside function:\", x)\n",
    "print(\"Before function call:\", x)\n",
    "some_fct(x)\n",
    "print(\"After function call:\", x)\n",
    "\n",
    "print(\"\\nCall by reference\")\n",
    "x = [1, 2, 3]\n",
    "def some_fct(x):\n",
    "    x += [4]\n",
    "    print(\"Inside function:\", x)\n",
    "print(\"Before function call:\", x)\n",
    "some_fct(x)\n",
    "print(\"After function call:\", x)"
   ]
  },
  {
   "cell_type": "markdown",
   "id": "e83b38a8-bd9c-42a2-848e-7fbd45f47176",
   "metadata": {},
   "source": [
    "## Classes and errors"
   ]
  },
  {
   "cell_type": "code",
   "execution_count": 20,
   "id": "9980cdf7-109f-4388-b0b7-329b3d901bf7",
   "metadata": {},
   "outputs": [
    {
     "name": "stdout",
     "output_type": "stream",
     "text": [
      "Honk!\n",
      "wroooom\n",
      "True\n",
      "I can't\n",
      "Clown car instance created\n",
      "BEEP!\n",
      "wroooom\n",
      "I can easily fit 100 clowns\n",
      "I can easily fit 512 clowns\n"
     ]
    },
    {
     "ename": "AttributeError",
     "evalue": "'Vehicle' object has no attribute 'fit_clowns'",
     "output_type": "error",
     "traceback": [
      "\u001b[0;31m---------------------------------------------------------------------------\u001b[0m",
      "\u001b[0;31mAttributeError\u001b[0m                            Traceback (most recent call last)",
      "Cell \u001b[0;32mIn[20], line 52\u001b[0m\n\u001b[1;32m     50\u001b[0m my_ccar\u001b[38;5;241m.\u001b[39mfit_clowns(\u001b[38;5;241m100\u001b[39m)\n\u001b[1;32m     51\u001b[0m ClownCar\u001b[38;5;241m.\u001b[39mfit_clowns_2(\u001b[38;5;241m512\u001b[39m)\n\u001b[0;32m---> 52\u001b[0m \u001b[43mmy_vehicle\u001b[49m\u001b[38;5;241;43m.\u001b[39;49m\u001b[43mfit_clowns\u001b[49m(\u001b[38;5;241m100\u001b[39m)\n\u001b[1;32m     53\u001b[0m \u001b[38;5;28mprint\u001b[39m(\u001b[38;5;124m\"\u001b[39m\u001b[38;5;124mThis is never reached\u001b[39m\u001b[38;5;124m\"\u001b[39m)\n",
      "\u001b[0;31mAttributeError\u001b[0m: 'Vehicle' object has no attribute 'fit_clowns'"
     ]
    }
   ],
   "source": [
    "# The last data structure I want to introduce are classes. \n",
    "# These allow to collect variables (called class members) and functions (called class methods) into one object\n",
    "class Vehicle:\n",
    "    def __init__(self, honk_lvl):\n",
    "        self.num_wheels = 4\n",
    "        self.can_drive = True\n",
    "        self.intensity = honk_lvl\n",
    "    \n",
    "    def honk(self):\n",
    "        if self.intensity <= 0:\n",
    "            print(\"honk\")\n",
    "        elif self.intensity <= 1:\n",
    "            print(\"honk!\")\n",
    "        elif self.intensity <= 2:\n",
    "            print(\"Honk!\")\n",
    "        else:\n",
    "            print(\"HONK!\")\n",
    "    \n",
    "    def drive(self):\n",
    "        if self.can_drive:\n",
    "            print(\"wroooom\")\n",
    "        else: \n",
    "            print(\"I can't\")\n",
    "\n",
    "my_vehicle = Vehicle(2)\n",
    "my_vehicle.honk()\n",
    "my_vehicle.drive()\n",
    "print(my_vehicle.can_drive)\n",
    "my_vehicle.can_drive = False\n",
    "my_vehicle.drive()\n",
    "\n",
    "class ClownCar(Vehicle):  # ClownCar inherits everything from vehicle\n",
    "    def __init__(self, honk_lvl):\n",
    "        super().__init__(honk_lvl)  # super is the parent class, i.e., vehicle\n",
    "        print(\"Clown car instance created\")\n",
    "    \n",
    "    def honk(self):\n",
    "        print(\"BEEP!\")\n",
    "\n",
    "    def fit_clowns(self, num_clowns):\n",
    "        print(\"I can easily fit {} clowns\".format(num_clowns))\n",
    "\n",
    "    @staticmethod\n",
    "    def fit_clowns_2(num_clowns):\n",
    "        print(\"I can easily fit {} clowns\".format(num_clowns))\n",
    "\n",
    "my_ccar = ClownCar(2)\n",
    "my_ccar.honk()\n",
    "my_ccar.drive()\n",
    "my_ccar.fit_clowns(100)\n",
    "ClownCar.fit_clowns_2(512)\n",
    "my_vehicle.fit_clowns(100)\n",
    "print(\"This is never reached\")"
   ]
  },
  {
   "cell_type": "code",
   "execution_count": 21,
   "id": "a26b643e-ea20-4cda-8ed4-b7dec93869d5",
   "metadata": {},
   "outputs": [
    {
     "name": "stdout",
     "output_type": "stream",
     "text": [
      "Error: 'Vehicle' object has no attribute 'fit_clowns'\n",
      "Did you mean to call this on a clown car instance?\n",
      "This is reached now\n"
     ]
    }
   ],
   "source": [
    "# we can catch errors and decide what to do, rather than just crash out of the kernel:\n",
    "try:\n",
    "    my_vehicle.fit_clowns(100)\n",
    "except AttributeError as e:\n",
    "    print(\"Error:\", e)\n",
    "    print(\"Did you mean to call this on a clown car instance?\")\n",
    "print(\"This is reached now\")"
   ]
  },
  {
   "cell_type": "code",
   "execution_count": 22,
   "id": "c87e05e1-b00e-43f6-be57-f4bea0f09a34",
   "metadata": {},
   "outputs": [
    {
     "name": "stdout",
     "output_type": "stream",
     "text": [
      "Boat instance created\n",
      "Error: I'm a boat, i can only swim.\n",
      "Did you mean to call the \"swim()\" method?\n",
      "\n",
      "Error: 'Boat' object has no attribute 'fit_clowns'\n",
      "Did you mean to call this on a \"clown car\" instance?\n",
      "\n"
     ]
    }
   ],
   "source": [
    "# We can also raise errors\n",
    "class Boat(Vehicle):  # clown_car inherits everything from vehicle\n",
    "    def __init__(self, honk_lvl):\n",
    "        super().__init__(honk_lvl)  # super is the parent class, i.e., vehicle\n",
    "        print(\"Boat instance created\")\n",
    "    \n",
    "    def drive(self):\n",
    "        raise NotImplementedError(\"I'm a boat, i can only swim.\")\n",
    "    \n",
    "    def swim(self):\n",
    "        print(\"swoosh\")\n",
    "\n",
    "my_boat = Boat(-1)\n",
    "try:\n",
    "    my_boat.drive()\n",
    "except AttributeError as e:\n",
    "    print(\"Error:\", e)\n",
    "    print(\"Did you mean to call this on a \\\"clown car\\\" instance?\\n\")\n",
    "except NotImplementedError as e:\n",
    "    print(\"Error:\", e)\n",
    "    print(\"Did you mean to call the \\\"swim()\\\" method?\\n\")\n",
    "\n",
    "try:\n",
    "    my_boat.fit_clowns(100)\n",
    "except AttributeError as e:\n",
    "    print(\"Error:\", e)\n",
    "    print(\"Did you mean to call this on a \\\"clown car\\\" instance?\\n\")\n",
    "except NotImplementedError as e:\n",
    "    print(\"Error:\", e)\n",
    "    print(\"Did you mean to call the \\\"swim()\\\" method?\\n\")"
   ]
  }
 ],
 "metadata": {
  "kernelspec": {
   "display_name": "venv-ml",
   "language": "python",
   "name": "venv-ml"
  },
  "language_info": {
   "codemirror_mode": {
    "name": "ipython",
    "version": 3
   },
   "file_extension": ".py",
   "mimetype": "text/x-python",
   "name": "python",
   "nbconvert_exporter": "python",
   "pygments_lexer": "ipython3",
   "version": "3.9.10"
  }
 },
 "nbformat": 4,
 "nbformat_minor": 5
}
