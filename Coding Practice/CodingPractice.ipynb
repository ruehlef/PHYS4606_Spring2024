{
 "cells": [
  {
   "cell_type": "code",
   "execution_count": 1,
   "id": "f8a6aec7-1bc1-45c0-902f-45529ad88e69",
   "metadata": {},
   "outputs": [],
   "source": [
    "import matplotlib.pyplot as plt\n",
    "import numpy as np\n",
    "import random\n",
    "import jax\n",
    "import jax.numpy as jnp"
   ]
  },
  {
   "cell_type": "markdown",
   "id": "06d70452-175e-4545-92f4-a284a5b3ed03",
   "metadata": {},
   "source": [
    "# 1.) Game of Life"
   ]
  },
  {
   "cell_type": "code",
   "execution_count": 8,
   "id": "b05e30da-876c-46e9-97bd-6d4f9ab653f5",
   "metadata": {},
   "outputs": [],
   "source": [
    "def num_neighbors(world, i, j, periodic=False):\n",
    "    padded_world = world.tolist()\n",
    "    if not periodic:  # to deal with edge cases, zero-pad \n",
    "        padded_world = [[0] + r  + [0] for r in padded_world]\n",
    "        padded_world.insert(0, [0 for _ in range(len(padded_world[0]))])\n",
    "        padded_world.append([0 for _ in range(len(padded_world[0]))])\n",
    "    padded_world = np.array(world, dtype=bool)\n",
    "    return np.sum(world[i-1:i+2, j-1:j+2]) - 1  # get the surrounding squares and sum them all up (since they are bool, this will count neighbors). Subtract 1 because this counts the cell itself\n",
    "\n",
    "def gol_evlove(world, periodic=False):\n",
    "    new_world = np.copy(world)\n",
    "    for i in range(len(world)):\n",
    "        for j in range(len(world[i])):\n",
    "            neighbors = num_neighbors(world, i, j, periodic=periodic)\n",
    "            if world[i, j] and (neighbors < 2 or neighbors > 3):  # Rules 1 and 3\n",
    "                new_world[i, j] = False\n",
    "            elif not world[i,j] and neighbors == 3:  # Rule 4\n",
    "                new_world[i, j] = True\n",
    "    return new_world"
   ]
  },
  {
   "cell_type": "code",
   "execution_count": 9,
   "id": "befad780-8884-43d6-9d63-9e176df0a75b",
   "metadata": {},
   "outputs": [],
   "source": [
    "K = 30  # 30% living initially \n",
    "N = 16  # board size\n",
    "world = np.array(random.choices([False, True], weights=(100 - K, K), k=N*N)).reshape((N, N))\n",
    "gol_evlove(world);"
   ]
  },
  {
   "cell_type": "code",
   "execution_count": 13,
   "id": "d90257eb-3bfc-4854-b8ab-8b1e639b0e27",
   "metadata": {},
   "outputs": [],
   "source": [
    "worlds = [world]\n",
    "for _ in range(30):\n",
    "    worlds.append(gol_evlove(worlds[-1], periodic=False))\n",
    "\n",
    "def world_to_img(world):\n",
    "    fig, ax = plt.subplots()\n",
    "    ax.imshow(world, interpolation='nearest')\n",
    "    ax.get_xaxis().set_visible(False)\n",
    "    ax.get_yaxis().set_visible(False)\n",
    "    return fig"
   ]
  },
  {
   "cell_type": "code",
   "execution_count": 12,
   "id": "2120de52-6672-4dce-acdc-9eb73916ea9e",
   "metadata": {},
   "outputs": [],
   "source": [
    "# just for animation, not needed for solving the problem\n",
    "from PIL import Image\n",
    "\n",
    "images = [Image.fromarray(np.invert(w)).resize((300,300), resample=0).convert('P') for w in worlds]\n",
    "images[0].save('./GameOfLife.gif', save_all=True, append_images=images[1:], optimize=False, duration=300, loop=1)"
   ]
  },
  {
   "cell_type": "markdown",
   "id": "d657263d-caa5-4fd5-92b1-fdf1f0b0e912",
   "metadata": {},
   "source": [
    "![GameOfLife](GameOfLife.gif \"segment\")"
   ]
  },
  {
   "cell_type": "markdown",
   "id": "09411191-f3c7-4db9-9ad2-cec6898dcdd5",
   "metadata": {},
   "source": [
    "# 2. Recursive programming"
   ]
  },
  {
   "cell_type": "code",
   "execution_count": 17,
   "id": "ee997101-87ad-4578-a62d-a32478f60999",
   "metadata": {},
   "outputs": [],
   "source": [
    "def factorial(n):\n",
    "    assert type(n) == int  # factorials only defined for integers\n",
    "    return n * factorial(n-1) if n > 1 else 1"
   ]
  },
  {
   "cell_type": "code",
   "execution_count": 23,
   "id": "e5be06b9-d3f6-4b25-9d27-ddc9ee0b743c",
   "metadata": {},
   "outputs": [
    {
     "data": {
      "text/plain": [
       "120"
      ]
     },
     "execution_count": 23,
     "metadata": {},
     "output_type": "execute_result"
    }
   ],
   "source": [
    "factorial(5)"
   ]
  },
  {
   "cell_type": "markdown",
   "id": "7cbec7b6-3509-440f-85df-a333ae62b198",
   "metadata": {},
   "source": [
    "# 3. Einstein Summation"
   ]
  },
  {
   "cell_type": "code",
   "execution_count": 11,
   "id": "709c28c3-b39d-4b3a-a7dd-319825e1c408",
   "metadata": {},
   "outputs": [],
   "source": [
    "r, theta, phi = 1., np.pi/4, np.sqrt(2)\n",
    "coords = jnp.array([r, theta, phi])\n",
    "g = jnp.array([[1., 0., 0.], [0., r**2, 0.], [0., 0., r**2 * jnp.sin(phi)**2]])\n",
    "\n",
    "def get_g(coords):\n",
    "    r, theta, phi = coords\n",
    "    return jnp.array([[1., 0., 0.], [0., r**2, 0.], [0., 0., r**2 * jnp.sin(phi)**2]])\n",
    "\n",
    "def christoffel(coords):\n",
    "    g_inv = jnp.linalg.inv(get_g(coords))\n",
    "    dg = jax.jacfwd(get_g)(coords)  # format: partial_i g_jk -> dg_jki\n",
    "    return 1./2. * (jnp.einsum('kn,inj->kij', g_inv, dg) + jnp.einsum('kn,jni->kij', g_inv, dg) - jnp.einsum('kn,ijn->kij', g_inv, dg))  # format: \\Gamma^i_jk\n",
    "    \n",
    "def riemann_tensor(coords):\n",
    "    gamma = christoffel(coords)\n",
    "    d_christoffel = jax.jacfwd(christoffel)(coords)  # format: partial_i Gamma^j_kl -> d_christoffel^j_kli\n",
    "    return jnp.einsum('rnsm->rsmn', d_christoffel) - jnp.einsum('rmsn->rsnm', d_christoffel) + jnp.einsum('rml,lns->rsmn', gamma, gamma) - jnp.einsum('rnl,lms->rsmn', gamma, gamma) # format: R^\\rho_\\sigma\\mu\\nu\n",
    "\n",
    "    \n",
    "def ricci_tensor(coords):\n",
    "    riem = riemann_tensor(coords)\n",
    "    return jnp.einsum('rmrn',riem)\n",
    "\n",
    "def ricci_scalar(coords):\n",
    "    g_inv = jnp.linalg.inv(get_g(coords))\n",
    "    ric = ricci_tensor(coords)\n",
    "    return jnp.einsum('mn,mn', g_inv, ric)"
   ]
  },
  {
   "cell_type": "code",
   "execution_count": 13,
   "id": "fb16f84c-315c-46a6-86e8-cc7faca67415",
   "metadata": {},
   "outputs": [
    {
     "data": {
      "text/plain": [
       "Array(-2., dtype=float32)"
      ]
     },
     "execution_count": 13,
     "metadata": {},
     "output_type": "execute_result"
    }
   ],
   "source": [
    "ricci_scalar(jnp.array([r, theta, phi]))"
   ]
  },
  {
   "cell_type": "markdown",
   "id": "86c1d379-50d6-4c4f-8f1c-8e515e2863e8",
   "metadata": {},
   "source": [
    "# 4.) Regression"
   ]
  },
  {
   "cell_type": "code",
   "execution_count": 51,
   "id": "560089ee-94a1-4ee5-826f-f3fac244b986",
   "metadata": {},
   "outputs": [
    {
     "name": "stdout",
     "output_type": "stream",
     "text": [
      "Current best fit: = [ 0.17269018 -0.46084192  1.2229712  -0.07101909]\n",
      "Loss: 19150.171875\n",
      "Current best fit: = [ 0.98976284 -0.82536066  0.26082426 -0.07658728]\n",
      "Loss: 30.343153\n",
      "Current best fit: = [ 1.2073238  -0.83727586  0.0557898  -0.01095174]\n",
      "Loss: 8.637547\n",
      "Current best fit: = [ 1.2488621  -0.8055467  -0.0185887   0.00984505]\n",
      "Loss: 6.728848\n",
      "Current best fit: = [ 1.2487037  -0.7650485  -0.06039108  0.01963892]\n",
      "Loss: 6.022305\n",
      "Current best fit: = [ 1.2390418  -0.7240648  -0.09320155  0.02655743]\n",
      "Loss: 5.442147\n",
      "Current best fit: = [ 1.2275789  -0.6845013  -0.12273725  0.032562  ]\n",
      "Loss: 4.920986\n",
      "Current best fit: = [ 1.2161276  -0.64674234 -0.15042175  0.03813419]\n",
      "Loss: 4.449996\n",
      "Current best fit: = [ 1.2051101  -0.61080337 -0.17664842  0.04339858]\n",
      "Loss: 4.024170\n",
      "Current best fit: = [ 1.1946019  -0.57662237 -0.20156345  0.04839643]\n",
      "Loss: 3.639165\n"
     ]
    },
    {
     "data": {
      "image/png": "[encoded data removed]",
      "text/plain": [
       "<Figure size 640x480 with 1 Axes>"
      ]
     },
     "metadata": {},
     "output_type": "display_data"
    }
   ],
   "source": [
    "xs = jnp.arange(0, jnp.pi, jnp.pi/1000)\n",
    "ys_exact = jnp.cos(xs)\n",
    "\n",
    "# See week 3\n",
    "def f(params):\n",
    "    x_pows = jnp.array([xs**i for i in range(d + 1)])\n",
    "    return jnp.einsum('i,ix->x', params, x_pows)\n",
    "\n",
    "def loss(params):\n",
    "    ys_hat = f(params)\n",
    "    return jnp.sum((ys_exact - ys_hat)**2)\n",
    "\n",
    "def gd(params, alpha=1e-3, max_iter=10000):\n",
    "    for i in range(max_iter):\n",
    "        if i % 1000 == 0:\n",
    "            print(\"Current best fit: = {}\".format(params))\n",
    "            print(\"Loss: {:.6f}\".format(loss(params)))\n",
    "        params -= alpha * jax.grad(loss)(params)\n",
    "    return params\n",
    "\n",
    "# some random guess\n",
    "d = 3\n",
    "alpha = 5e-6\n",
    "key = jax.random.PRNGKey(seed=1)\n",
    "params = jax.random.normal(key, shape=(d + 1,))\n",
    "\n",
    "params = gd(params, alpha=alpha)\n",
    "\n",
    "plt.plot(xs, ys_exact, c='blue');\n",
    "plt.plot(xs, f(params), c='orange');"
   ]
  },
  {
   "cell_type": "markdown",
   "id": "3ecfa71e-429c-48a6-9f21-2154e2b9116b",
   "metadata": {},
   "source": [
    "# 5.) Fashion MNIST"
   ]
  },
  {
   "cell_type": "markdown",
   "id": "5d39d7c0-c9c8-4a35-9a07-6bf321c90555",
   "metadata": {},
   "source": [
    "This is literally the same as HW3, Problem 3."
   ]
  },
  {
   "cell_type": "code",
   "execution_count": 151,
   "id": "db6d8759-696e-4bf0-b3d8-cde630cc62a4",
   "metadata": {},
   "outputs": [],
   "source": [
    "from jax import grad, jit, vmap, random\n",
    "\n",
    "# load data using tensorflow_datasets\n",
    "import tensorflow_datasets as tfds\n",
    "dataset_train = tfds.load('fashion_mnist', split='train', shuffle_files=False, with_info=False);\n",
    "dataset_test = tfds.load('fashion_mnist', split='test', shuffle_files=False, with_info=False);\n",
    "\n",
    "def preprocess(sample):\n",
    "    image = sample['image']\n",
    "    label = sample['label']\n",
    "    # Normalize the image data\n",
    "    image = jnp.array(image, dtype=jnp.float32) / 255.\n",
    "    return image, label\n",
    "\n",
    "data_generator = load_dataset()\n",
    "\n",
    "def get_dataset(dataset):\n",
    "    images, labels = [], []\n",
    "    for s in tfds.as_numpy(dataset):\n",
    "        im, l =preprocess(s)\n",
    "        images.append(im)\n",
    "        labels.append(l)\n",
    "    return jnp.array(images), jnp.array(labels, dtype=int)\n",
    "\n",
    "label_dict = {\n",
    "    0: 'T-shirt/top',\n",
    "    1: 'Trouser', \n",
    "    2: 'Pullover',\n",
    "    3: 'Dress',\n",
    "    4: 'Coat',\n",
    "    5: 'Sandal',\n",
    "    6: 'Shirt',\n",
    "    7: 'Sneaker',\n",
    "    8: 'Bag',\n",
    "    9: 'Ankle boot'\n",
    "}\n",
    "\n",
    "x_train, y_train = get_dataset(dataset_train)\n",
    "x_train = x_train.reshape((x_train.shape[0], x_train.shape[1] * x_train.shape[2],))\n",
    "x_test, y_test = get_dataset(dataset_test)\n",
    "x_test = x_test.reshape((x_test.shape[0], x_test.shape[1] * x_test.shape[2],))\n",
    "item_name = 'Dress'"
   ]
  },
  {
   "cell_type": "code",
   "execution_count": 152,
   "id": "789091eb-d936-4eab-b9d2-da398902ebc1",
   "metadata": {},
   "outputs": [
    {
     "data": {
      "image/png": "[encoded data removed]",
      "text/plain": [
       "<Figure size 640x480 with 10 Axes>"
      ]
     },
     "metadata": {},
     "output_type": "display_data"
    }
   ],
   "source": [
    "fig, axs = plt.subplots(1, 10)\n",
    "for ax, imag, lab in zip(axs, x_train, y_train):\n",
    "    ax.imshow(imag.reshape((28, 28)), cmap='gray', vmin=0, vmax=1);\n",
    "    ax.set_title(label_dict[int(lab)], fontsize='6')\n",
    "    ax.get_xaxis().set_visible(False)\n",
    "    ax.get_yaxis().set_visible(False)"
   ]
  },
  {
   "cell_type": "code",
   "execution_count": 153,
   "id": "3adfc599-e287-4d94-9a49-9c059438d6ab",
   "metadata": {},
   "outputs": [],
   "source": [
    "def get_balanced_data_and_labels(item_name):\n",
    "    find_item = [i for i in label_dict if label_dict[i] == item_name][0]\n",
    "    shuffle_key = random.PRNGKey(0)\n",
    "    number_positions = jnp.where(y_train == find_item)[0]\n",
    "    other_positions = jnp.where(y_train != find_item)[0]\n",
    "    # make the same length\n",
    "    other_positions = other_positions[:len(number_positions)]\n",
    "    # combine the index sets and shuffle them\n",
    "    all_indices = jax.random.permutation(shuffle_key, jnp.hstack((number_positions, other_positions)))\n",
    "    return x_train[all_indices], y_train[all_indices]"
   ]
  },
  {
   "cell_type": "code",
   "execution_count": 154,
   "id": "5e3a0c74-cc25-4975-8e51-48d3d49c97ba",
   "metadata": {},
   "outputs": [
    {
     "data": {
      "image/png": "[encoded data removed]",
      "text/plain": [
       "<Figure size 640x480 with 10 Axes>"
      ]
     },
     "metadata": {},
     "output_type": "display_data"
    }
   ],
   "source": [
    "x_train, y_train = get_balanced_data_and_labels(item_name=item_name)\n",
    "fig, axs = plt.subplots(1, 10)\n",
    "for ax, digit, label in zip(axs, x, y):\n",
    "    ax.imshow(digit.reshape((28, 28)), cmap='gray', vmin=0, vmax=1);\n",
    "    ax.set_title(label)\n",
    "    ax.get_xaxis().set_visible(False)\n",
    "    ax.get_yaxis().set_visible(False)"
   ]
  },
  {
   "cell_type": "code",
   "execution_count": 155,
   "id": "2d486fa6-2f86-4e50-aa92-0e8a1e8ae58d",
   "metadata": {},
   "outputs": [],
   "source": [
    "# we will use sigmoid here. So we map things with a label \"item_name\" to +1 and others to 0\n",
    "find_item = [i for i in label_dict if label_dict[i] == item_name][0]\n",
    "y_train = jnp.array(y_train == find_item, dtype=jnp.float32)\n",
    "y_test = jnp.array(y_test == find_item, dtype=jnp.float32)"
   ]
  },
  {
   "cell_type": "code",
   "execution_count": 156,
   "id": "016e2ecf-e68e-4cc1-b672-27f2d0f16137",
   "metadata": {},
   "outputs": [
    {
     "name": "stdout",
     "output_type": "stream",
     "text": [
      "Summary of NN:\n",
      "Layer 1: Weights: (784, 100), Biases: (100,), Total: 78500 parameters\n",
      "Layer 2: Weights: (100, 100), Biases: (100,), Total: 10100 parameters\n",
      "Layer 3: Weights: (100, 1), Biases: (1,), Total: 101 parameters\n",
      "The NN has 88701 parameters.\n",
      "\n",
      "\n"
     ]
    }
   ],
   "source": [
    "key = jax.random.PRNGKey(0)\n",
    "# Neural network architecture\n",
    "def init_network_params(key):\n",
    "    sizes = [28 * 28, 100, 100, 1]  # Number of nodes in each layer\n",
    "    keys = random.split(key, len(sizes) - 1)\n",
    "    params = [(1/jnp.sqrt(n) * random.normal(k, (m, n)), 1/n * random.normal(k, (n,))) for m, n, k in zip(sizes[:-1], sizes[1:], keys)]\n",
    "    return params\n",
    "\n",
    "@jit\n",
    "def neural_network(params, x):\n",
    "    for i, (w, b) in enumerate(params):\n",
    "        x = jnp.dot(x, w) + b\n",
    "        if i != len(params) - 1:\n",
    "            x = jax.nn.relu(x)\n",
    "    return jax.nn.sigmoid(x)\n",
    "\n",
    "# Mean squared error loss\n",
    "@jit\n",
    "def loss(params, x, y_true):\n",
    "    y_pred = neural_network(params, x)\n",
    "    return jnp.mean((y_pred.flatten() - y_true) ** 2)\n",
    "\n",
    "# Initialize network parameters\n",
    "params = init_network_params(key)\n",
    "print(\"Summary of NN:\")\n",
    "total_num = 0\n",
    "for i in range(len(params)):\n",
    "    total_num += params[i][0].shape[0] * params[i][0].shape[1] + params[i][1].shape[0]\n",
    "    print(\"Layer {}: Weights: {}, Biases: {}, Total: {} parameters\".format(i + 1, \n",
    "                                                                     params[i][0].shape, \n",
    "                                                                     params[i][1].shape, \n",
    "                                                                     params[i][0].shape[0] * params[i][0].shape[1] + params[i][1].shape[0])\n",
    "         )\n",
    "print(\"The NN has {} parameters.\\n\\n\".format(total_num))"
   ]
  },
  {
   "cell_type": "code",
   "execution_count": 157,
   "id": "eaeaddad-6926-44fd-9e57-1b54768b8f5c",
   "metadata": {},
   "outputs": [],
   "source": [
    "# Training loop\n",
    "def train(params, X, y, learning_rate=1e-2, epochs=list(range(101))):\n",
    "    X_train, X_test = X\n",
    "    y_train, y_test = y\n",
    "    for epoch in epochs:\n",
    "        train_loss, test_loss = loss(params, X_train, y_train), loss(params, X_test, y_test)\n",
    "        train_losses.append(train_loss)\n",
    "        test_losses.append(test_loss)\n",
    "        \n",
    "        gradients = grad(loss)(params, X_train, y_train)\n",
    "        params = [(w - learning_rate * dw, b - learning_rate * db) for (w, b), (dw, db) in zip(params, gradients)]\n",
    "        if epoch % 10 == 0:\n",
    "            print(\"Epoch {:3d}, Train Loss: {:.4f}, Test Loss: {:.4f}\".format(epoch, train_loss, test_loss))\n",
    "    return params"
   ]
  },
  {
   "cell_type": "code",
   "execution_count": 158,
   "id": "25c7179b-0e06-4149-9170-9d8f800e574d",
   "metadata": {},
   "outputs": [
    {
     "name": "stdout",
     "output_type": "stream",
     "text": [
      "Training the NN...\n",
      "Epoch   0, Train Loss: 0.3097, Test Loss: 0.3674\n",
      "Epoch  10, Train Loss: 0.1835, Test Loss: 0.2546\n",
      "Epoch  20, Train Loss: 0.1541, Test Loss: 0.2128\n",
      "Epoch  30, Train Loss: 0.1412, Test Loss: 0.1941\n",
      "Epoch  40, Train Loss: 0.1332, Test Loss: 0.1818\n",
      "Epoch  50, Train Loss: 0.1272, Test Loss: 0.1718\n",
      "Epoch  60, Train Loss: 0.1219, Test Loss: 0.1620\n",
      "Epoch  70, Train Loss: 0.1164, Test Loss: 0.1505\n",
      "Epoch  80, Train Loss: 0.1096, Test Loss: 0.1358\n",
      "Epoch  90, Train Loss: 0.1014, Test Loss: 0.1198\n",
      "Epoch 100, Train Loss: 0.0940, Test Loss: 0.1080\n",
      "Epoch 110, Train Loss: 0.0885, Test Loss: 0.1007\n",
      "Epoch 120, Train Loss: 0.0846, Test Loss: 0.0959\n",
      "Epoch 130, Train Loss: 0.0816, Test Loss: 0.0924\n",
      "Epoch 140, Train Loss: 0.0792, Test Loss: 0.0896\n",
      "Epoch 150, Train Loss: 0.0771, Test Loss: 0.0872\n",
      "Epoch 160, Train Loss: 0.0754, Test Loss: 0.0852\n",
      "Epoch 170, Train Loss: 0.0739, Test Loss: 0.0835\n",
      "Epoch 180, Train Loss: 0.0726, Test Loss: 0.0819\n",
      "Epoch 190, Train Loss: 0.0714, Test Loss: 0.0806\n",
      "Epoch 200, Train Loss: 0.0703, Test Loss: 0.0794\n",
      "Epoch 210, Train Loss: 0.0694, Test Loss: 0.0782\n",
      "Epoch 220, Train Loss: 0.0685, Test Loss: 0.0772\n",
      "Epoch 230, Train Loss: 0.0677, Test Loss: 0.0763\n",
      "Epoch 240, Train Loss: 0.0670, Test Loss: 0.0754\n",
      "Epoch 250, Train Loss: 0.0663, Test Loss: 0.0746\n",
      "Epoch 260, Train Loss: 0.0657, Test Loss: 0.0739\n",
      "Epoch 270, Train Loss: 0.0651, Test Loss: 0.0732\n",
      "Epoch 280, Train Loss: 0.0646, Test Loss: 0.0726\n",
      "Epoch 290, Train Loss: 0.0640, Test Loss: 0.0720\n",
      "Epoch 300, Train Loss: 0.0636, Test Loss: 0.0714\n",
      "Epoch 310, Train Loss: 0.0631, Test Loss: 0.0709\n",
      "Epoch 320, Train Loss: 0.0627, Test Loss: 0.0704\n",
      "Epoch 330, Train Loss: 0.0623, Test Loss: 0.0699\n",
      "Epoch 340, Train Loss: 0.0619, Test Loss: 0.0695\n",
      "Epoch 350, Train Loss: 0.0616, Test Loss: 0.0690\n",
      "Epoch 360, Train Loss: 0.0612, Test Loss: 0.0686\n",
      "Epoch 370, Train Loss: 0.0609, Test Loss: 0.0682\n",
      "Epoch 380, Train Loss: 0.0606, Test Loss: 0.0679\n",
      "Epoch 390, Train Loss: 0.0603, Test Loss: 0.0675\n",
      "Epoch 400, Train Loss: 0.0600, Test Loss: 0.0672\n",
      "Epoch 410, Train Loss: 0.0597, Test Loss: 0.0669\n",
      "Epoch 420, Train Loss: 0.0594, Test Loss: 0.0666\n",
      "Epoch 430, Train Loss: 0.0591, Test Loss: 0.0663\n",
      "Epoch 440, Train Loss: 0.0589, Test Loss: 0.0660\n",
      "Epoch 450, Train Loss: 0.0586, Test Loss: 0.0657\n",
      "Epoch 460, Train Loss: 0.0584, Test Loss: 0.0654\n",
      "Epoch 470, Train Loss: 0.0581, Test Loss: 0.0652\n",
      "Epoch 480, Train Loss: 0.0579, Test Loss: 0.0649\n",
      "Epoch 490, Train Loss: 0.0577, Test Loss: 0.0647\n",
      "Epoch 500, Train Loss: 0.0574, Test Loss: 0.0645\n",
      "Epoch 510, Train Loss: 0.0572, Test Loss: 0.0643\n",
      "Epoch 520, Train Loss: 0.0570, Test Loss: 0.0641\n",
      "Epoch 530, Train Loss: 0.0568, Test Loss: 0.0639\n",
      "Epoch 540, Train Loss: 0.0566, Test Loss: 0.0637\n",
      "Epoch 550, Train Loss: 0.0564, Test Loss: 0.0635\n",
      "Epoch 560, Train Loss: 0.0562, Test Loss: 0.0633\n",
      "Epoch 570, Train Loss: 0.0560, Test Loss: 0.0631\n",
      "Epoch 580, Train Loss: 0.0558, Test Loss: 0.0630\n",
      "Epoch 590, Train Loss: 0.0556, Test Loss: 0.0628\n",
      "Epoch 600, Train Loss: 0.0555, Test Loss: 0.0626\n",
      "Epoch 610, Train Loss: 0.0553, Test Loss: 0.0625\n",
      "Epoch 620, Train Loss: 0.0551, Test Loss: 0.0623\n",
      "Epoch 630, Train Loss: 0.0549, Test Loss: 0.0622\n",
      "Epoch 640, Train Loss: 0.0548, Test Loss: 0.0620\n",
      "Epoch 650, Train Loss: 0.0546, Test Loss: 0.0619\n",
      "Epoch 660, Train Loss: 0.0544, Test Loss: 0.0617\n",
      "Epoch 670, Train Loss: 0.0543, Test Loss: 0.0616\n",
      "Epoch 680, Train Loss: 0.0541, Test Loss: 0.0615\n",
      "Epoch 690, Train Loss: 0.0540, Test Loss: 0.0614\n",
      "Epoch 700, Train Loss: 0.0538, Test Loss: 0.0612\n",
      "Epoch 710, Train Loss: 0.0536, Test Loss: 0.0611\n",
      "Epoch 720, Train Loss: 0.0535, Test Loss: 0.0610\n",
      "Epoch 730, Train Loss: 0.0534, Test Loss: 0.0609\n",
      "Epoch 740, Train Loss: 0.0532, Test Loss: 0.0608\n",
      "Epoch 750, Train Loss: 0.0531, Test Loss: 0.0607\n",
      "Epoch 760, Train Loss: 0.0529, Test Loss: 0.0605\n",
      "Epoch 770, Train Loss: 0.0528, Test Loss: 0.0604\n",
      "Epoch 780, Train Loss: 0.0527, Test Loss: 0.0603\n",
      "Epoch 790, Train Loss: 0.0525, Test Loss: 0.0602\n",
      "Epoch 800, Train Loss: 0.0524, Test Loss: 0.0601\n",
      "Epoch 810, Train Loss: 0.0523, Test Loss: 0.0600\n",
      "Epoch 820, Train Loss: 0.0521, Test Loss: 0.0599\n",
      "Epoch 830, Train Loss: 0.0520, Test Loss: 0.0598\n",
      "Epoch 840, Train Loss: 0.0519, Test Loss: 0.0597\n",
      "Epoch 850, Train Loss: 0.0518, Test Loss: 0.0596\n",
      "Epoch 860, Train Loss: 0.0516, Test Loss: 0.0595\n",
      "Epoch 870, Train Loss: 0.0515, Test Loss: 0.0594\n",
      "Epoch 880, Train Loss: 0.0514, Test Loss: 0.0593\n",
      "Epoch 890, Train Loss: 0.0513, Test Loss: 0.0592\n",
      "Epoch 900, Train Loss: 0.0512, Test Loss: 0.0591\n",
      "Epoch 910, Train Loss: 0.0511, Test Loss: 0.0590\n",
      "Epoch 920, Train Loss: 0.0510, Test Loss: 0.0589\n",
      "Epoch 930, Train Loss: 0.0508, Test Loss: 0.0589\n",
      "Epoch 940, Train Loss: 0.0507, Test Loss: 0.0588\n",
      "Epoch 950, Train Loss: 0.0506, Test Loss: 0.0587\n",
      "Epoch 960, Train Loss: 0.0505, Test Loss: 0.0586\n",
      "Epoch 970, Train Loss: 0.0504, Test Loss: 0.0585\n",
      "Epoch 980, Train Loss: 0.0503, Test Loss: 0.0584\n",
      "Epoch 990, Train Loss: 0.0502, Test Loss: 0.0584\n",
      "Epoch 1000, Train Loss: 0.0501, Test Loss: 0.0583\n"
     ]
    }
   ],
   "source": [
    "# Train the neural network\n",
    "print(\"Training the NN...\")\n",
    "epochs, train_losses, test_losses = list(range(1001)), [], []\n",
    "params = train(params, (x_train, x_test), (y_train, y_test), learning_rate=7e-3, epochs=epochs)"
   ]
  },
  {
   "cell_type": "code",
   "execution_count": 159,
   "id": "3905fe41-e6e7-4146-956b-1983f59a45f0",
   "metadata": {},
   "outputs": [
    {
     "data": {
      "text/plain": [
       "<matplotlib.patches.StepPatch at 0x2a5d7ad00>"
      ]
     },
     "execution_count": 159,
     "metadata": {},
     "output_type": "execute_result"
    },
    {
     "data": {
      "image/png": "[encoded data removed]",
      "text/plain": [
       "<Figure size 640x480 with 1 Axes>"
      ]
     },
     "metadata": {},
     "output_type": "display_data"
    }
   ],
   "source": [
    "test_results = neural_network(params, x_test)\n",
    "counts, bins = jnp.histogram(test_results)\n",
    "plt.stairs(counts, bins)"
   ]
  },
  {
   "cell_type": "code",
   "execution_count": 160,
   "id": "0e7a30c2-2a76-4ebf-b722-2efb31b7af5d",
   "metadata": {},
   "outputs": [
    {
     "name": "stdout",
     "output_type": "stream",
     "text": [
      "Classiefied 9275/10000 = 92.75% correctly\n"
     ]
    }
   ],
   "source": [
    "# count percent correct\n",
    "y_hat = jnp.round(neural_network(params, x_test), 0).flatten()\n",
    "num_correct = jnp.sum(y_hat == y_test)\n",
    "print(\"Classiefied {}/{} = {:.2f}% correctly\".format(num_correct, len(y_hat), num_correct / len(y_hat) * 100))"
   ]
  },
  {
   "cell_type": "code",
   "execution_count": null,
   "id": "815cd7b4-d10d-4641-b079-962a8c1433d4",
   "metadata": {},
   "outputs": [],
   "source": []
  }
 ],
 "metadata": {
  "kernelspec": {
   "display_name": "venv-ml",
   "language": "python",
   "name": "venv-ml"
  },
  "language_info": {
   "codemirror_mode": {
    "name": "ipython",
    "version": 3
   },
   "file_extension": ".py",
   "mimetype": "text/x-python",
   "name": "python",
   "nbconvert_exporter": "python",
   "pygments_lexer": "ipython3",
   "version": "3.9.10"
  }
 },
 "nbformat": 4,
 "nbformat_minor": 5
}
